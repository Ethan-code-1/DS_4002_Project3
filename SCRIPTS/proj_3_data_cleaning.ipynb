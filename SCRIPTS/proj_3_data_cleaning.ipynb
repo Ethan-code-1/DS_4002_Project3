{
 "cells": [
  {
   "cell_type": "code",
   "execution_count": 11,
   "id": "7db3343d-f3d0-435a-8483-a60cd51e67f9",
   "metadata": {
    "tags": []
   },
   "outputs": [],
   "source": [
    "# load necessary libraries. install what you don't have\n",
    "import numpy as np\n",
    "import pandas as pd\n",
    "import matplotlib.pyplot as plt\n",
    "import json\n",
    "import requests\n",
    "import time\n",
    "#import io # new and important wow\n",
    "#import keras ## new. install tensorflow?\n",
    "#import argparse\n"
   ]
  },
  {
   "cell_type": "code",
   "execution_count": 12,
   "id": "b0aab575-862b-459d-9814-c9608abe6d0c",
   "metadata": {
    "tags": []
   },
   "outputs": [],
   "source": [
    "## Testing out the MET Museum API"
   ]
  },
  {
   "cell_type": "code",
   "execution_count": 13,
   "id": "874bbf6c-d34c-44a7-96c0-b8d54e1aff18",
   "metadata": {
    "tags": []
   },
   "outputs": [
    {
     "data": {
      "text/plain": [
       "'\\nEDA Questions to explore:\\n\\nWhat is the frequency of European Artwork across the 1970-1990s period? \\nIf one decade dominates in terms of amount of pieces maybe we need to ensure\\nthat we sample 1000 images from each decade for a more uniform sample\\n\\nWhat is the frequency of drawings to photographs during the time period?\\nIf there is an imbalance maybe we need to sample a set amount of each.\\n\\nWhat is the average pixel dimensions of the images, based on this we have\\njustification for making each photo the same pixel size\\n\\nHow many NAs (year)\\n\\n\\n'"
      ]
     },
     "execution_count": 13,
     "metadata": {},
     "output_type": "execute_result"
    }
   ],
   "source": [
    "'''\n",
    "EDA Questions to explore:\n",
    "\n",
    "What is the frequency of European Artwork across the 1970-1990s period? \n",
    "If one decade dominates in terms of amount of pieces maybe we need to ensure\n",
    "that we sample 1000 images from each decade for a more uniform sample\n",
    "\n",
    "What is the frequency of drawings to photographs during the time period?\n",
    "If there is an imbalance maybe we need to sample a set amount of each.\n",
    "\n",
    "What is the average pixel dimensions of the images, based on this we have\n",
    "justification for making each photo the same pixel size\n",
    "\n",
    "How many NAs (year)\n",
    "\n",
    "\n",
    "'''"
   ]
  },
  {
   "cell_type": "code",
   "execution_count": 14,
   "id": "c5890bea-b72b-4dce-9258-0812e95240e2",
   "metadata": {},
   "outputs": [],
   "source": [
    "def get_image_data(a, b): #input is in department number and department name\n",
    "    url_test = \"https://collectionapi.metmuseum.org/public/collection/v1\"\n",
    "    departments = (\"/search?departmentId=\" + str(a) +\"&hasImages=true&dateBegin=1800&dateEnd=2000&q=\" + b)\n",
    "    response = requests.get(url_test+departments)\n",
    "    if response.status_code == 200 :\n",
    "        print(\"API request successful!\")\n",
    "        data = response.json()\n",
    "    else:\n",
    "        print(\"Failed to retrieve data: {response.status_code}\")\n",
    "\n",
    "    print(\"Total Items Retrieved From \" + b + \" department: \" + str(data['total']))\n",
    "    \n",
    "    img_url = []\n",
    "    date_list = []\n",
    "    ID_list = data['objectIDs']\n",
    "    \n",
    "    index_val = 0 # if the distribution of years is wonky might want to consider random selection?\n",
    "    counter_val = 0\n",
    "\n",
    "    while counter_val <200: #set sample size\n",
    "        object_id = ID_list[index_val]\n",
    "\n",
    "        url_object = \"https://collectionapi.metmuseum.org/public/collection/v1/objects/\" \n",
    "\n",
    "        reponse_object = requests.get(url_object+str(object_id))\n",
    "\n",
    "        if reponse_object.status_code == 200 :\n",
    "            data_ob = reponse_object.json()\n",
    "\n",
    "            image_url = data_ob['primaryImage']\n",
    "            if image_url != \"\":\n",
    "                img_url.append(image_url)\n",
    "                date_val=data_ob['objectBeginDate']\n",
    "                date_list.append(date_val)\n",
    "            \n",
    "                index_val+= 1\n",
    "                counter_val+= 1\n",
    "            else:\n",
    "                index_val+=1\n",
    "                counter_val=counter_val\n",
    "            \n",
    "            \n",
    "            \n",
    "            #conditional statement \n",
    "\n",
    "            #img_rep = requests.get(image_url).content\n",
    "            #img = plt.imread(io.BytesIO(img_rep), format='JPG')\n",
    "            #plt.imshow(img)\n",
    "\n",
    "        # and this can be read directly as a np array i g? \n",
    "        else:\n",
    "            print(\"Failed to retrieve url\")\n",
    "            index_val+= 1\n",
    "            counter_val= counter_val \n",
    "            \n",
    "\n",
    "        \n",
    "        time.sleep(0.05)\n",
    "    df = {'Year': date_list,\n",
    "        'URL': img_url}\n",
    "    df = pd.DataFrame(df)   \n",
    "    df['Type'] = b\n",
    "    return df\n",
    "  "
   ]
  },
  {
   "cell_type": "code",
   "execution_count": 15,
   "id": "7ed54b90-d501-4b27-91b3-5b06e0930cf0",
   "metadata": {
    "tags": []
   },
   "outputs": [
    {
     "name": "stdout",
     "output_type": "stream",
     "text": [
      "API request successful!\n",
      "Total Items Retrieved From drawing department: 13438\n",
      "Failed to retrieve url\n",
      "Failed to retrieve url\n",
      "Failed to retrieve url\n",
      "Failed to retrieve url\n",
      "Failed to retrieve url\n",
      "API request successful!\n",
      "Total Items Retrieved From painting department: 1014\n",
      "Failed to retrieve url\n",
      "200 200\n"
     ]
    }
   ],
   "source": [
    "# code to show an image/process image characteristics.\n",
    "'''\n",
    "img_rep = requests.get(image_url).content\n",
    "    img = plt.imread(io.BytesIO(img_rep), format='JPG')\n",
    "    plt.imshow(img)\n",
    "'''\n",
    "# right now it is set to get 20 samples which is going to take \n",
    "# a few minutes in the first run. ideally we push to about 500? \n",
    "dr_url_list = get_image_data(9,\"drawing\")\n",
    "pt_url_list = get_image_data(11,\"painting\")\n",
    "\n",
    "print(len(dr_url_list), len(pt_url_list))\n"
   ]
  },
  {
   "cell_type": "code",
   "execution_count": 16,
   "id": "d0adc857-afae-490b-b25b-d730a4d18668",
   "metadata": {},
   "outputs": [
    {
     "data": {
      "text/html": [
       "<div>\n",
       "<style scoped>\n",
       "    .dataframe tbody tr th:only-of-type {\n",
       "        vertical-align: middle;\n",
       "    }\n",
       "\n",
       "    .dataframe tbody tr th {\n",
       "        vertical-align: top;\n",
       "    }\n",
       "\n",
       "    .dataframe thead th {\n",
       "        text-align: right;\n",
       "    }\n",
       "</style>\n",
       "<table border=\"1\" class=\"dataframe\">\n",
       "  <thead>\n",
       "    <tr style=\"text-align: right;\">\n",
       "      <th></th>\n",
       "      <th>Year</th>\n",
       "      <th>URL</th>\n",
       "      <th>Type</th>\n",
       "    </tr>\n",
       "  </thead>\n",
       "  <tbody>\n",
       "    <tr>\n",
       "      <th>0</th>\n",
       "      <td>1866</td>\n",
       "      <td>https://images.metmuseum.org/CRDImages/ep/orig...</td>\n",
       "      <td>painting</td>\n",
       "    </tr>\n",
       "    <tr>\n",
       "      <th>1</th>\n",
       "      <td>1804</td>\n",
       "      <td>https://images.metmuseum.org/CRDImages/ep/orig...</td>\n",
       "      <td>painting</td>\n",
       "    </tr>\n",
       "    <tr>\n",
       "      <th>2</th>\n",
       "      <td>1804</td>\n",
       "      <td>https://images.metmuseum.org/CRDImages/ep/orig...</td>\n",
       "      <td>painting</td>\n",
       "    </tr>\n",
       "    <tr>\n",
       "      <th>3</th>\n",
       "      <td>1846</td>\n",
       "      <td>https://images.metmuseum.org/CRDImages/ep/orig...</td>\n",
       "      <td>painting</td>\n",
       "    </tr>\n",
       "    <tr>\n",
       "      <th>4</th>\n",
       "      <td>1810</td>\n",
       "      <td>https://images.metmuseum.org/CRDImages/ep/orig...</td>\n",
       "      <td>painting</td>\n",
       "    </tr>\n",
       "  </tbody>\n",
       "</table>\n",
       "</div>"
      ],
      "text/plain": [
       "   Year                                                URL      Type\n",
       "0  1866  https://images.metmuseum.org/CRDImages/ep/orig...  painting\n",
       "1  1804  https://images.metmuseum.org/CRDImages/ep/orig...  painting\n",
       "2  1804  https://images.metmuseum.org/CRDImages/ep/orig...  painting\n",
       "3  1846  https://images.metmuseum.org/CRDImages/ep/orig...  painting\n",
       "4  1810  https://images.metmuseum.org/CRDImages/ep/orig...  painting"
      ]
     },
     "execution_count": 16,
     "metadata": {},
     "output_type": "execute_result"
    }
   ],
   "source": [
    "pt_url_list.head()"
   ]
  },
  {
   "cell_type": "code",
   "execution_count": 24,
   "id": "f1417501-e176-4727-ac2d-568d50a516da",
   "metadata": {},
   "outputs": [
    {
     "data": {
      "image/png": "[encoded data removed]",
      "text/plain": [
       "<Figure size 1000x400 with 1 Axes>"
      ]
     },
     "metadata": {},
     "output_type": "display_data"
    },
    {
     "data": {
      "image/png": "[encoded data removed]",
      "text/plain": [
       "<Figure size 1000x400 with 1 Axes>"
      ]
     },
     "metadata": {},
     "output_type": "display_data"
    }
   ],
   "source": [
    "# Ensure Year is numeric\n",
    "pt_url_list['Year'] = pd.to_numeric(pt_url_list['Year'], errors='coerce')\n",
    "dr_url_list['Year'] = pd.to_numeric(dr_url_list['Year'], errors='coerce')\n",
    "pt_years = pt_url_list['Year']\n",
    "dr_years = dr_url_list['Year']\n",
    "\n",
    "bins = range(1800, 1900, 10)\n",
    "\n",
    "# Plot paintings histogram\n",
    "plt.figure(figsize=(10, 4))\n",
    "plt.hist(pt_years, bins=bins, color='skyblue', edgecolor='black')\n",
    "plt.title('Paintings by Year (20-Year Bins)')\n",
    "plt.xlabel('Year')\n",
    "plt.ylabel('Count')\n",
    "plt.xticks(bins, rotation=45)\n",
    "plt.tight_layout()\n",
    "plt.show()\n",
    "\n",
    "# Plot drawings histogram\n",
    "plt.figure(figsize=(10, 4))\n",
    "plt.hist(dr_years, bins=bins, color='salmon', edgecolor='black')\n",
    "plt.title('Drawings by Year (20-Year Bins)')\n",
    "plt.xlabel('Year')\n",
    "plt.ylabel('Count')\n",
    "plt.xticks(bins, rotation=45)\n",
    "plt.tight_layout()\n",
    "plt.show()"
   ]
  },
  {
   "cell_type": "code",
   "execution_count": 25,
   "id": "d79768f5",
   "metadata": {},
   "outputs": [
    {
     "name": "stderr",
     "output_type": "stream",
     "text": [
      "Fetching image dimensions: 100%|██████████| 10/10 [00:05<00:00,  1.81it/s]\n",
      "Fetching image dimensions: 100%|██████████| 10/10 [00:03<00:00,  2.67it/s]"
     ]
    },
    {
     "name": "stdout",
     "output_type": "stream",
     "text": [
      "Average Painting Size (10 samples): 2873.3 x 3670.7 pixels\n",
      "Average Drawing Size (10 samples): 2718.1 x 3005.4 pixels\n"
     ]
    },
    {
     "name": "stderr",
     "output_type": "stream",
     "text": [
      "\n"
     ]
    }
   ],
   "source": [
    "from PIL import Image\n",
    "from io import BytesIO\n",
    "from tqdm import tqdm\n",
    "\n",
    "def get_width(img):\n",
    "    if img is not None:\n",
    "        return img.width\n",
    "    return None\n",
    "\n",
    "def get_height(img):\n",
    "    if img is not None:\n",
    "        return img.height\n",
    "    return None\n",
    "\n",
    "\n",
    "def fetch_image_dimensions(df):\n",
    "    widths = []\n",
    "    heights = []\n",
    "\n",
    "    for url in tqdm(df['URL'], desc=\"Fetching image dimensions\"):\n",
    "        time.sleep(0.05)\n",
    "        try:\n",
    "            response = requests.get(url, timeout=5)\n",
    "            img = Image.open(BytesIO(response.content))\n",
    "            widths.append(img.width)\n",
    "            heights.append(img.height)\n",
    "        except Exception as e:\n",
    "            print(f\"Failed to fetch {url}: {e}\")\n",
    "            widths.append(None)\n",
    "            heights.append(None)\n",
    "    \n",
    "    df = df.copy()\n",
    "    df['width'] = widths\n",
    "    df['height'] = heights\n",
    "    return df\n",
    "\n",
    "pt_sample = pt_url_list.head(10)\n",
    "dr_sample = dr_url_list.head(10)\n",
    "\n",
    "pt_sample = fetch_image_dimensions(pt_sample)\n",
    "dr_sample = fetch_image_dimensions(dr_sample)\n",
    "\n",
    "avg_pt_width = pt_sample['width'].dropna().mean()\n",
    "avg_pt_height = pt_sample['height'].dropna().mean()\n",
    "avg_dr_width = dr_sample['width'].dropna().mean()\n",
    "avg_dr_height = dr_sample['height'].dropna().mean()\n",
    "\n",
    "print(f\"Average Painting Size (10 samples): {avg_pt_width:.1f} x {avg_pt_height:.1f} pixels\")\n",
    "print(f\"Average Drawing Size (10 samples): {avg_dr_width:.1f} x {avg_dr_height:.1f} pixels\")\n"
   ]
  },
  {
   "cell_type": "code",
   "execution_count": 27,
   "id": "d87d1ba1",
   "metadata": {},
   "outputs": [
    {
     "data": {
      "text/html": [
       "<div>\n",
       "<style scoped>\n",
       "    .dataframe tbody tr th:only-of-type {\n",
       "        vertical-align: middle;\n",
       "    }\n",
       "\n",
       "    .dataframe tbody tr th {\n",
       "        vertical-align: top;\n",
       "    }\n",
       "\n",
       "    .dataframe thead th {\n",
       "        text-align: right;\n",
       "    }\n",
       "</style>\n",
       "<table border=\"1\" class=\"dataframe\">\n",
       "  <thead>\n",
       "    <tr style=\"text-align: right;\">\n",
       "      <th></th>\n",
       "      <th>Year</th>\n",
       "      <th>URL</th>\n",
       "      <th>Type</th>\n",
       "      <th>width</th>\n",
       "      <th>height</th>\n",
       "    </tr>\n",
       "  </thead>\n",
       "  <tbody>\n",
       "    <tr>\n",
       "      <th>0</th>\n",
       "      <td>1865</td>\n",
       "      <td>https://images.metmuseum.org/CRDImages/dp/orig...</td>\n",
       "      <td>drawing</td>\n",
       "      <td>3342</td>\n",
       "      <td>2327</td>\n",
       "    </tr>\n",
       "    <tr>\n",
       "      <th>1</th>\n",
       "      <td>1880</td>\n",
       "      <td>https://images.metmuseum.org/CRDImages/dp/orig...</td>\n",
       "      <td>drawing</td>\n",
       "      <td>3629</td>\n",
       "      <td>2518</td>\n",
       "    </tr>\n",
       "    <tr>\n",
       "      <th>2</th>\n",
       "      <td>1911</td>\n",
       "      <td>https://images.metmuseum.org/CRDImages/dp/orig...</td>\n",
       "      <td>drawing</td>\n",
       "      <td>3770</td>\n",
       "      <td>2844</td>\n",
       "    </tr>\n",
       "    <tr>\n",
       "      <th>3</th>\n",
       "      <td>1878</td>\n",
       "      <td>https://images.metmuseum.org/CRDImages/dp/orig...</td>\n",
       "      <td>drawing</td>\n",
       "      <td>1397</td>\n",
       "      <td>3970</td>\n",
       "    </tr>\n",
       "    <tr>\n",
       "      <th>4</th>\n",
       "      <td>1878</td>\n",
       "      <td>https://images.metmuseum.org/CRDImages/dp/orig...</td>\n",
       "      <td>drawing</td>\n",
       "      <td>2487</td>\n",
       "      <td>2718</td>\n",
       "    </tr>\n",
       "  </tbody>\n",
       "</table>\n",
       "</div>"
      ],
      "text/plain": [
       "   Year                                                URL     Type  width  \\\n",
       "0  1865  https://images.metmuseum.org/CRDImages/dp/orig...  drawing   3342   \n",
       "1  1880  https://images.metmuseum.org/CRDImages/dp/orig...  drawing   3629   \n",
       "2  1911  https://images.metmuseum.org/CRDImages/dp/orig...  drawing   3770   \n",
       "3  1878  https://images.metmuseum.org/CRDImages/dp/orig...  drawing   1397   \n",
       "4  1878  https://images.metmuseum.org/CRDImages/dp/orig...  drawing   2487   \n",
       "\n",
       "   height  \n",
       "0    2327  \n",
       "1    2518  \n",
       "2    2844  \n",
       "3    3970  \n",
       "4    2718  "
      ]
     },
     "execution_count": 27,
     "metadata": {},
     "output_type": "execute_result"
    }
   ],
   "source": [
    "pt_sample.head()\n",
    "dr_sample.head()"
   ]
  },
  {
   "cell_type": "code",
   "execution_count": null,
   "id": "d9eb5b07",
   "metadata": {},
   "outputs": [],
   "source": []
  }
 ],
 "metadata": {
  "kernelspec": {
   "display_name": "Python 3",
   "language": "python",
   "name": "python3"
  },
  "language_info": {
   "codemirror_mode": {
    "name": "ipython",
    "version": 3
   },
   "file_extension": ".py",
   "mimetype": "text/x-python",
   "name": "python",
   "nbconvert_exporter": "python",
   "pygments_lexer": "ipython3",
   "version": "3.9.6"
  },
  "vscode": {
   "interpreter": {
    "hash": "aee8b7b246df8f9039afb4144a1f6fd8d2ca17a180786b69acc140d282b71a49"
   }
  }
 },
 "nbformat": 4,
 "nbformat_minor": 5
}
