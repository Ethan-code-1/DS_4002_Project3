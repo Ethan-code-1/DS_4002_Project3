{
 "cells": [
  {
   "cell_type": "code",
   "execution_count": 25,
   "id": "7db3343d-f3d0-435a-8483-a60cd51e67f9",
   "metadata": {
    "tags": []
   },
   "outputs": [],
   "source": [
    "# load necessary libraries. install what you don't have\n",
    "import numpy as np\n",
    "import pandas as pd\n",
    "import matplotlib.pyplot as plt\n",
    "import json\n",
    "import requests\n",
    "import time\n",
    "\n",
    "#import io # new and important wow\n",
    "#import keras ## new. install tensorflow?\n",
    "#import argparse\n"
   ]
  },
  {
   "cell_type": "code",
   "execution_count": 26,
   "id": "b0aab575-862b-459d-9814-c9608abe6d0c",
   "metadata": {
    "tags": []
   },
   "outputs": [],
   "source": [
    "## Testing out the MET Museum API"
   ]
  },
  {
   "cell_type": "code",
   "execution_count": 27,
   "id": "874bbf6c-d34c-44a7-96c0-b8d54e1aff18",
   "metadata": {
    "tags": []
   },
   "outputs": [
    {
     "data": {
      "text/plain": [
       "'\\nEDA Questions to explore:\\n\\nWhat is the frequency of European Artwork across the 1970-1990s period? \\nIf one decade dominates in terms of amount of pieces maybe we need to ensure\\nthat we sample 1000 images from each decade for a more uniform sample\\n\\nWhat is the frequency of drawings to photographs during the time period?\\nIf there is an imbalance maybe we need to sample a set amount of each.\\n\\nWhat is the average pixel dimensions of the images, based on this we have\\njustification for making each photo the same pixel size\\n\\nHow many NAs (year)\\n\\n\\n'"
      ]
     },
     "execution_count": 27,
     "metadata": {},
     "output_type": "execute_result"
    }
   ],
   "source": [
    "'''\n",
    "EDA Questions to explore:\n",
    "\n",
    "What is the frequency of European Artwork across the 1970-1990s period? \n",
    "If one decade dominates in terms of amount of pieces maybe we need to ensure\n",
    "that we sample 1000 images from each decade for a more uniform sample\n",
    "\n",
    "What is the frequency of drawings to photographs during the time period?\n",
    "If there is an imbalance maybe we need to sample a set amount of each.\n",
    "\n",
    "What is the average pixel dimensions of the images, based on this we have\n",
    "justification for making each photo the same pixel size\n",
    "\n",
    "How many NAs (year)\n",
    "\n",
    "\n",
    "'''"
   ]
  },
  {
   "cell_type": "code",
   "execution_count": 28,
   "id": "c5890bea-b72b-4dce-9258-0812e95240e2",
   "metadata": {
    "tags": []
   },
   "outputs": [],
   "source": [
    "def get_image_data(a, b, c): #input is in department number and department name\n",
    "    url_test = \"https://collectionapi.metmuseum.org/public/collection/v1\"\n",
    "    departments = (\"/search?departmentId=\" + str(a) +\"&hasImages=true&dateBegin=1800&dateEnd=2000&q=\" + b)\n",
    "    response = requests.get(url_test+departments)\n",
    "    if response.status_code == 200 :\n",
    "        print(\"API request successful!\")\n",
    "        data = response.json()\n",
    "    else:\n",
    "        print(\"Failed to retrieve data: {response.status_code}\")\n",
    "\n",
    "    print(\"Total Items Retrieved From \" + b + \" department: \" + str(data['total']))\n",
    "    \n",
    "    img_url = []\n",
    "    date_list = []\n",
    "    domainList = []\n",
    "    ID_list = data['objectIDs']\n",
    "    \n",
    "    index_val = 0 # if the distribution of years is wonky might want to consider random selection?\n",
    "    counter_val = 0\n",
    "\n",
    "    while counter_val <c: #set sample size\n",
    "        object_id = ID_list[index_val]\n",
    "\n",
    "        url_object = \"https://collectionapi.metmuseum.org/public/collection/v1/objects/\" \n",
    "\n",
    "        reponse_object = requests.get(url_object+str(object_id))\n",
    "\n",
    "        if reponse_object.status_code == 200:\n",
    "            data_ob = reponse_object.json()\n",
    "\n",
    "            image_url = data_ob['primaryImage']\n",
    "            if image_url != \"\" and data_ob.get(\"isPublicDomain\"):\n",
    "                img_url.append(image_url)\n",
    "                date_val=data_ob['objectBeginDate']\n",
    "                date_list.append(date_val)\n",
    "                domainList.append(data_ob.get(\"isPublicDomain\"))\n",
    "            \n",
    "                index_val+= 1\n",
    "                counter_val+= 1\n",
    "            else:\n",
    "                index_val+=1\n",
    "                counter_val=counter_val\n",
    "            \n",
    "            \n",
    "            \n",
    "            #conditional statement \n",
    "\n",
    "            #img_rep = requests.get(image_url).content\n",
    "            #img = plt.imread(io.BytesIO(img_rep), format='JPG')\n",
    "            #plt.imshow(img)\n",
    "\n",
    "        # and this can be read directly as a np array i g? \n",
    "        else:\n",
    "            #print(\"Failed to retrieve url\")\n",
    "            index_val+= 1\n",
    "            counter_val= counter_val \n",
    "            \n",
    "\n",
    "        \n",
    "        time.sleep(0.05)\n",
    "    df = {'Year': date_list,\n",
    "        'URL': img_url,\n",
    "        'isPublic' : domainList\n",
    "        }\n",
    "    df = pd.DataFrame(df)   \n",
    "    df['Type'] = b\n",
    "    return df\n",
    "  "
   ]
  },
  {
   "cell_type": "code",
   "execution_count": 29,
   "id": "b926ecfe-2486-41e1-a800-67b55cfaefc0",
   "metadata": {
    "tags": []
   },
   "outputs": [
    {
     "data": {
      "text/plain": [
       "\"\\nimg_rep = requests.get(image_url).content\\n    img = plt.imread(io.BytesIO(img_rep), format='JPG')\\n    plt.imshow(img)\\n\""
      ]
     },
     "execution_count": 29,
     "metadata": {},
     "output_type": "execute_result"
    }
   ],
   "source": [
    "# code to show an image/process image characteristics.\n",
    "'''\n",
    "img_rep = requests.get(image_url).content\n",
    "    img = plt.imread(io.BytesIO(img_rep), format='JPG')\n",
    "    plt.imshow(img)\n",
    "'''\n",
    "# right now it is set to get 20 samples which is going to take \n",
    "# a few minutes in the first run. ideally we push to about 500? \n"
   ]
  },
  {
   "cell_type": "code",
   "execution_count": 30,
   "id": "9fe9f6c7-d95d-4eb6-9d38-5b5151124a0b",
   "metadata": {
    "tags": []
   },
   "outputs": [
    {
     "name": "stdout",
     "output_type": "stream",
     "text": [
      "API request successful!\n",
      "Total Items Retrieved From drawing department: 13438\n",
      "API request successful!\n",
      "Total Items Retrieved From painting department: 1014\n",
      "2000 750\n"
     ]
    }
   ],
   "source": [
    "dr_url_list = get_image_data(9,\"drawing\", 2000)\n",
    "pt_url_list = get_image_data(11,\"painting\", 750)\n",
    "print(len(dr_url_list), len(pt_url_list))"
   ]
  },
  {
   "cell_type": "code",
   "execution_count": 31,
   "id": "d0adc857-afae-490b-b25b-d730a4d18668",
   "metadata": {
    "tags": []
   },
   "outputs": [
    {
     "data": {
      "text/html": [
       "<div>\n",
       "<style scoped>\n",
       "    .dataframe tbody tr th:only-of-type {\n",
       "        vertical-align: middle;\n",
       "    }\n",
       "\n",
       "    .dataframe tbody tr th {\n",
       "        vertical-align: top;\n",
       "    }\n",
       "\n",
       "    .dataframe thead th {\n",
       "        text-align: right;\n",
       "    }\n",
       "</style>\n",
       "<table border=\"1\" class=\"dataframe\">\n",
       "  <thead>\n",
       "    <tr style=\"text-align: right;\">\n",
       "      <th></th>\n",
       "      <th>Year</th>\n",
       "      <th>URL</th>\n",
       "      <th>isPublic</th>\n",
       "      <th>Type</th>\n",
       "    </tr>\n",
       "  </thead>\n",
       "  <tbody>\n",
       "    <tr>\n",
       "      <th>0</th>\n",
       "      <td>1866</td>\n",
       "      <td>https://images.metmuseum.org/CRDImages/ep/orig...</td>\n",
       "      <td>True</td>\n",
       "      <td>painting</td>\n",
       "    </tr>\n",
       "    <tr>\n",
       "      <th>1</th>\n",
       "      <td>1804</td>\n",
       "      <td>https://images.metmuseum.org/CRDImages/ep/orig...</td>\n",
       "      <td>True</td>\n",
       "      <td>painting</td>\n",
       "    </tr>\n",
       "    <tr>\n",
       "      <th>2</th>\n",
       "      <td>1804</td>\n",
       "      <td>https://images.metmuseum.org/CRDImages/ep/orig...</td>\n",
       "      <td>True</td>\n",
       "      <td>painting</td>\n",
       "    </tr>\n",
       "    <tr>\n",
       "      <th>3</th>\n",
       "      <td>1846</td>\n",
       "      <td>https://images.metmuseum.org/CRDImages/ep/orig...</td>\n",
       "      <td>True</td>\n",
       "      <td>painting</td>\n",
       "    </tr>\n",
       "    <tr>\n",
       "      <th>4</th>\n",
       "      <td>1810</td>\n",
       "      <td>https://images.metmuseum.org/CRDImages/ep/orig...</td>\n",
       "      <td>True</td>\n",
       "      <td>painting</td>\n",
       "    </tr>\n",
       "  </tbody>\n",
       "</table>\n",
       "</div>"
      ],
      "text/plain": [
       "   Year                                                URL  isPublic      Type\n",
       "0  1866  https://images.metmuseum.org/CRDImages/ep/orig...      True  painting\n",
       "1  1804  https://images.metmuseum.org/CRDImages/ep/orig...      True  painting\n",
       "2  1804  https://images.metmuseum.org/CRDImages/ep/orig...      True  painting\n",
       "3  1846  https://images.metmuseum.org/CRDImages/ep/orig...      True  painting\n",
       "4  1810  https://images.metmuseum.org/CRDImages/ep/orig...      True  painting"
      ]
     },
     "execution_count": 31,
     "metadata": {},
     "output_type": "execute_result"
    }
   ],
   "source": [
    "pt_url_list.head()\n"
   ]
  },
  {
   "cell_type": "code",
   "execution_count": 32,
   "id": "fb320537-5ac6-4f77-b46f-bdbf02b49f3b",
   "metadata": {
    "tags": []
   },
   "outputs": [
    {
     "data": {
      "text/html": [
       "<div>\n",
       "<style scoped>\n",
       "    .dataframe tbody tr th:only-of-type {\n",
       "        vertical-align: middle;\n",
       "    }\n",
       "\n",
       "    .dataframe tbody tr th {\n",
       "        vertical-align: top;\n",
       "    }\n",
       "\n",
       "    .dataframe thead th {\n",
       "        text-align: right;\n",
       "    }\n",
       "</style>\n",
       "<table border=\"1\" class=\"dataframe\">\n",
       "  <thead>\n",
       "    <tr style=\"text-align: right;\">\n",
       "      <th></th>\n",
       "      <th>Year</th>\n",
       "      <th>URL</th>\n",
       "      <th>isPublic</th>\n",
       "      <th>Type</th>\n",
       "      <th>Decade</th>\n",
       "    </tr>\n",
       "  </thead>\n",
       "  <tbody>\n",
       "    <tr>\n",
       "      <th>0</th>\n",
       "      <td>1865</td>\n",
       "      <td>https://images.metmuseum.org/CRDImages/dp/orig...</td>\n",
       "      <td>True</td>\n",
       "      <td>drawing</td>\n",
       "      <td>1870s</td>\n",
       "    </tr>\n",
       "    <tr>\n",
       "      <th>1</th>\n",
       "      <td>1880</td>\n",
       "      <td>https://images.metmuseum.org/CRDImages/dp/orig...</td>\n",
       "      <td>True</td>\n",
       "      <td>drawing</td>\n",
       "      <td>1880s</td>\n",
       "    </tr>\n",
       "    <tr>\n",
       "      <th>2</th>\n",
       "      <td>1911</td>\n",
       "      <td>https://images.metmuseum.org/CRDImages/dp/orig...</td>\n",
       "      <td>True</td>\n",
       "      <td>drawing</td>\n",
       "      <td>Post-1900</td>\n",
       "    </tr>\n",
       "    <tr>\n",
       "      <th>3</th>\n",
       "      <td>1878</td>\n",
       "      <td>https://images.metmuseum.org/CRDImages/dp/orig...</td>\n",
       "      <td>True</td>\n",
       "      <td>drawing</td>\n",
       "      <td>1870s</td>\n",
       "    </tr>\n",
       "    <tr>\n",
       "      <th>4</th>\n",
       "      <td>1878</td>\n",
       "      <td>https://images.metmuseum.org/CRDImages/dp/orig...</td>\n",
       "      <td>True</td>\n",
       "      <td>drawing</td>\n",
       "      <td>1870s</td>\n",
       "    </tr>\n",
       "    <tr>\n",
       "      <th>...</th>\n",
       "      <td>...</td>\n",
       "      <td>...</td>\n",
       "      <td>...</td>\n",
       "      <td>...</td>\n",
       "      <td>...</td>\n",
       "    </tr>\n",
       "    <tr>\n",
       "      <th>1995</th>\n",
       "      <td>1820</td>\n",
       "      <td>https://images.metmuseum.org/CRDImages/dp/orig...</td>\n",
       "      <td>True</td>\n",
       "      <td>drawing</td>\n",
       "      <td>1820s</td>\n",
       "    </tr>\n",
       "    <tr>\n",
       "      <th>1996</th>\n",
       "      <td>1835</td>\n",
       "      <td>https://images.metmuseum.org/CRDImages/dp/orig...</td>\n",
       "      <td>True</td>\n",
       "      <td>drawing</td>\n",
       "      <td>1830s</td>\n",
       "    </tr>\n",
       "    <tr>\n",
       "      <th>1997</th>\n",
       "      <td>1800</td>\n",
       "      <td>https://images.metmuseum.org/CRDImages/dp/orig...</td>\n",
       "      <td>True</td>\n",
       "      <td>drawing</td>\n",
       "      <td>1800s</td>\n",
       "    </tr>\n",
       "    <tr>\n",
       "      <th>1998</th>\n",
       "      <td>1835</td>\n",
       "      <td>https://images.metmuseum.org/CRDImages/dp/orig...</td>\n",
       "      <td>True</td>\n",
       "      <td>drawing</td>\n",
       "      <td>1830s</td>\n",
       "    </tr>\n",
       "    <tr>\n",
       "      <th>1999</th>\n",
       "      <td>1800</td>\n",
       "      <td>https://images.metmuseum.org/CRDImages/dp/orig...</td>\n",
       "      <td>True</td>\n",
       "      <td>drawing</td>\n",
       "      <td>1800s</td>\n",
       "    </tr>\n",
       "  </tbody>\n",
       "</table>\n",
       "<p>2000 rows × 5 columns</p>\n",
       "</div>"
      ],
      "text/plain": [
       "      Year                                                URL  isPublic  \\\n",
       "0     1865  https://images.metmuseum.org/CRDImages/dp/orig...      True   \n",
       "1     1880  https://images.metmuseum.org/CRDImages/dp/orig...      True   \n",
       "2     1911  https://images.metmuseum.org/CRDImages/dp/orig...      True   \n",
       "3     1878  https://images.metmuseum.org/CRDImages/dp/orig...      True   \n",
       "4     1878  https://images.metmuseum.org/CRDImages/dp/orig...      True   \n",
       "...    ...                                                ...       ...   \n",
       "1995  1820  https://images.metmuseum.org/CRDImages/dp/orig...      True   \n",
       "1996  1835  https://images.metmuseum.org/CRDImages/dp/orig...      True   \n",
       "1997  1800  https://images.metmuseum.org/CRDImages/dp/orig...      True   \n",
       "1998  1835  https://images.metmuseum.org/CRDImages/dp/orig...      True   \n",
       "1999  1800  https://images.metmuseum.org/CRDImages/dp/orig...      True   \n",
       "\n",
       "         Type     Decade  \n",
       "0     drawing      1870s  \n",
       "1     drawing      1880s  \n",
       "2     drawing  Post-1900  \n",
       "3     drawing      1870s  \n",
       "4     drawing      1870s  \n",
       "...       ...        ...  \n",
       "1995  drawing      1820s  \n",
       "1996  drawing      1830s  \n",
       "1997  drawing      1800s  \n",
       "1998  drawing      1830s  \n",
       "1999  drawing      1800s  \n",
       "\n",
       "[2000 rows x 5 columns]"
      ]
     },
     "execution_count": 32,
     "metadata": {},
     "output_type": "execute_result"
    }
   ],
   "source": [
    "# we can take 45 from each decade and have a total of 405 each cateogry, with a sample size of 810 in total. \n",
    "# we reach outside of index when i try to get 800 paintings so ig they just don't have 800 painting urls, but they do have at least 750\n",
    "\n",
    "# Ensure Year is numeric\n",
    "pt_url_list['Year'] = pd.to_numeric(pt_url_list['Year'], errors='coerce')\n",
    "dr_url_list['Year'] = pd.to_numeric(dr_url_list['Year'], errors='coerce')\n",
    "# make a decade column --> groupby and sample the column 45 each value of decade column? \n",
    "\n",
    "def dec_column(df):\n",
    "    decade = []\n",
    "\n",
    "    for x in range(len(df)):\n",
    "        yr_val = df['Year'][x]\n",
    "        if (yr_val < 1810 ):\n",
    "            decade.append('1800s')\n",
    "        elif (yr_val >= 1810 and yr_val < 1820):\n",
    "            decade.append('1810s')\n",
    "        elif (yr_val >= 1820 and yr_val < 1830):\n",
    "            decade.append('1820s')\n",
    "        elif (yr_val >= 1830 and yr_val < 1840):\n",
    "            decade.append('1830s')\n",
    "        elif (yr_val >= 1840 and yr_val < 1850):\n",
    "            decade.append('1840s')\n",
    "        elif (yr_val >= 1850 and yr_val < 1860):\n",
    "            decade.append('1850s')\n",
    "        elif (yr_val >= 1860 and yr_val < 1870):\n",
    "            decade.append('1870s')\n",
    "        elif (yr_val >= 1870 and yr_val < 1880):\n",
    "            decade.append('1870s')\n",
    "        elif (yr_val >= 1880 and yr_val < 1890):\n",
    "            decade.append('1880s')\n",
    "        elif (yr_val >= 1890 and yr_val < 1900):\n",
    "            decade.append('1890s')\n",
    "        else:\n",
    "            decade.append(\"Post-1900\")\n",
    "        \n",
    "    df[\"Decade\"] = decade\n",
    "    return df\n",
    "dec_column(pt_url_list)\n",
    "dec_column(dr_url_list)\n"
   ]
  },
  {
   "cell_type": "code",
   "execution_count": 33,
   "id": "4e31781b-c06b-4aff-98e9-035b79d02a0e",
   "metadata": {
    "tags": []
   },
   "outputs": [
    {
     "data": {
      "text/html": [
       "<div>\n",
       "<style scoped>\n",
       "    .dataframe tbody tr th:only-of-type {\n",
       "        vertical-align: middle;\n",
       "    }\n",
       "\n",
       "    .dataframe tbody tr th {\n",
       "        vertical-align: top;\n",
       "    }\n",
       "\n",
       "    .dataframe thead th {\n",
       "        text-align: right;\n",
       "    }\n",
       "</style>\n",
       "<table border=\"1\" class=\"dataframe\">\n",
       "  <thead>\n",
       "    <tr style=\"text-align: right;\">\n",
       "      <th></th>\n",
       "      <th>Year</th>\n",
       "      <th>URL</th>\n",
       "      <th>isPublic</th>\n",
       "      <th>Type</th>\n",
       "      <th>Decade</th>\n",
       "    </tr>\n",
       "  </thead>\n",
       "  <tbody>\n",
       "    <tr>\n",
       "      <th>0</th>\n",
       "      <td>1866</td>\n",
       "      <td>https://images.metmuseum.org/CRDImages/ep/orig...</td>\n",
       "      <td>True</td>\n",
       "      <td>painting</td>\n",
       "      <td>1870s</td>\n",
       "    </tr>\n",
       "    <tr>\n",
       "      <th>1</th>\n",
       "      <td>1804</td>\n",
       "      <td>https://images.metmuseum.org/CRDImages/ep/orig...</td>\n",
       "      <td>True</td>\n",
       "      <td>painting</td>\n",
       "      <td>1800s</td>\n",
       "    </tr>\n",
       "    <tr>\n",
       "      <th>2</th>\n",
       "      <td>1804</td>\n",
       "      <td>https://images.metmuseum.org/CRDImages/ep/orig...</td>\n",
       "      <td>True</td>\n",
       "      <td>painting</td>\n",
       "      <td>1800s</td>\n",
       "    </tr>\n",
       "    <tr>\n",
       "      <th>3</th>\n",
       "      <td>1846</td>\n",
       "      <td>https://images.metmuseum.org/CRDImages/ep/orig...</td>\n",
       "      <td>True</td>\n",
       "      <td>painting</td>\n",
       "      <td>1840s</td>\n",
       "    </tr>\n",
       "    <tr>\n",
       "      <th>4</th>\n",
       "      <td>1810</td>\n",
       "      <td>https://images.metmuseum.org/CRDImages/ep/orig...</td>\n",
       "      <td>True</td>\n",
       "      <td>painting</td>\n",
       "      <td>1810s</td>\n",
       "    </tr>\n",
       "  </tbody>\n",
       "</table>\n",
       "</div>"
      ],
      "text/plain": [
       "   Year                                                URL  isPublic  \\\n",
       "0  1866  https://images.metmuseum.org/CRDImages/ep/orig...      True   \n",
       "1  1804  https://images.metmuseum.org/CRDImages/ep/orig...      True   \n",
       "2  1804  https://images.metmuseum.org/CRDImages/ep/orig...      True   \n",
       "3  1846  https://images.metmuseum.org/CRDImages/ep/orig...      True   \n",
       "4  1810  https://images.metmuseum.org/CRDImages/ep/orig...      True   \n",
       "\n",
       "       Type Decade  \n",
       "0  painting  1870s  \n",
       "1  painting  1800s  \n",
       "2  painting  1800s  \n",
       "3  painting  1840s  \n",
       "4  painting  1810s  "
      ]
     },
     "execution_count": 33,
     "metadata": {},
     "output_type": "execute_result"
    }
   ],
   "source": [
    "idx_pt_1800s = pt_url_list[ pt_url_list['Decade'] == 'Post-1900' ].index\n",
    "pt_url_list.drop(idx_pt_1800s, inplace = True) \n",
    "\n",
    "idx_dr_1800s = dr_url_list[ dr_url_list['Decade'] == 'Post-1900' ].index\n",
    "dr_url_list.drop(idx_dr_1800s, inplace = True) \n",
    "\n",
    "pt_19th = pt_url_list.groupby('Decade').apply(lambda x: x.sample(min(len(x), 45)))\n",
    "dr_19th = dr_url_list.groupby('Decade').apply(lambda x: x.sample(min(len(x), 45)))\n",
    "\n",
    "pt_19th.columns = ['Year', 'URL', 'Type', 'Era', 'isPublic']\n",
    "dr_19th.columns = ['Year', 'URL', 'Type', 'Era', 'isPublic']\n",
    "pt_url_list.head()"
   ]
  },
  {
   "cell_type": "code",
   "execution_count": 34,
   "id": "f1417501-e176-4727-ac2d-568d50a516da",
   "metadata": {
    "tags": []
   },
   "outputs": [
    {
     "data": {
      "image/png": "[encoded data removed]",
      "text/plain": [
       "<Figure size 1000x400 with 1 Axes>"
      ]
     },
     "metadata": {},
     "output_type": "display_data"
    },
    {
     "data": {
      "image/png": "[encoded data removed]",
      "text/plain": [
       "<Figure size 1000x400 with 1 Axes>"
      ]
     },
     "metadata": {},
     "output_type": "display_data"
    }
   ],
   "source": [
    "\n",
    "pt_years = pt_url_list['Year']\n",
    "dr_years = dr_url_list['Year']\n",
    "\n",
    "bins = range(1800, 1900, 10)\n",
    "\n",
    "# Plot paintings histogram\n",
    "plt.figure(figsize=(10, 4))\n",
    "counts, bins, patches = plt.hist(pt_years, bins=bins, color='skyblue', edgecolor='black')\n",
    "plt.bar_label(patches, labels=[f'{int(c)}' for c in counts], label_type='center')\n",
    "plt.title('Paintings by Year (10-Year Bins)')\n",
    "plt.xlabel('Year')\n",
    "plt.ylabel('Count')\n",
    "plt.xticks(bins, rotation=45)\n",
    "plt.tight_layout()\n",
    "plt.show()\n",
    "\n",
    "# Plot drawings histogram\n",
    "plt.figure(figsize=(10, 4))\n",
    "counts, bins, patches = plt.hist(dr_years, bins=bins, color='salmon', edgecolor='black')\n",
    "plt.bar_label(patches, labels=[f'{int(c)}' for c in counts], label_type='center')\n",
    "plt.title('Drawings by Year (10-Year Bins)')\n",
    "plt.xlabel('Year')\n",
    "plt.ylabel('Count')\n",
    "plt.xticks(bins, rotation=45)\n",
    "plt.tight_layout()\n",
    "plt.show()"
   ]
  },
  {
   "cell_type": "code",
   "execution_count": 43,
   "id": "130a72ad-eb21-4224-93e0-aec4625063bc",
   "metadata": {
    "tags": []
   },
   "outputs": [
    {
     "data": {
      "image/png": "[encoded data removed]",
      "text/plain": [
       "<Figure size 640x480 with 1 Axes>"
      ]
     },
     "metadata": {},
     "output_type": "display_data"
    },
    {
     "data": {
      "image/png": "[encoded data removed]",
      "text/plain": [
       "<Figure size 640x480 with 1 Axes>"
      ]
     },
     "metadata": {},
     "output_type": "display_data"
    },
    {
     "data": {
      "image/png": "[encoded data removed]",
      "text/plain": [
       "<Figure size 640x480 with 1 Axes>"
      ]
     },
     "metadata": {},
     "output_type": "display_data"
    },
    {
     "data": {
      "image/png": "[encoded data removed]",
      "text/plain": [
       "<Figure size 640x480 with 1 Axes>"
      ]
     },
     "metadata": {},
     "output_type": "display_data"
    }
   ],
   "source": [
    "#fig, axes = plt.subplots(nrows=2, ncols=2, figsize=(10, 4))\n",
    "# Plot paintings histogram\n",
    "\n",
    "\n",
    "#plt.figure(figsize=(10, 4))\n",
    "grouped_pt_counta = pt_url_list.groupby('Decade').size()\n",
    "plt.bar(grouped_pt_counta.index, grouped_pt_counta.values)\n",
    "plt.xlabel('Decases')\n",
    "plt.ylabel('Frequency')\n",
    "plt.title('Frequency of Paintings by Decade (updated)')\n",
    "plt.show()\n",
    "\n",
    "\n",
    "#plt.figure(figsize=(10, 4))\n",
    "grouped_pt_count = pt_19th.groupby('Decade').size()\n",
    "plt.bar(grouped_pt_count.index, grouped_pt_count.values)\n",
    "plt.xlabel('Decases')\n",
    "plt.ylabel('Frequency')\n",
    "plt.title('Frequency of Paintings by Decade (updated)')\n",
    "plt.show()\n",
    "\n",
    "# Plot drawings histogram\n",
    "\n",
    "#plt.figure(figsize=(10, 4))\n",
    "grouped_dr_counta = dr_url_list.groupby('Decade').size()\n",
    "plt.bar(grouped_dr_counta.index, grouped_dr_counta.values)\n",
    "plt.xlabel('Decases')\n",
    "plt.ylabel('Frequency')\n",
    "plt.title('Frequency of Drawings by Decade')\n",
    "plt.show()\n",
    "\n",
    "#plt.figure(figsize=(10, 4))\n",
    "grouped_dr_count = dr_19th.groupby('Decade').size()\n",
    "plt.bar(grouped_dr_count.index, grouped_dr_count.values)\n",
    "plt.xlabel('Decades')\n",
    "plt.ylabel('Frequency')\n",
    "plt.title('Frequency of Drawings by Decade (updated)')\n",
    "plt.show()"
   ]
  },
  {
   "cell_type": "code",
   "execution_count": 36,
   "id": "d79768f5",
   "metadata": {},
   "outputs": [
    {
     "name": "stderr",
     "output_type": "stream",
     "text": [
      "Fetching image dimensions: 100%|██████████| 10/10 [00:05<00:00,  1.99it/s]\n",
      "Fetching image dimensions: 100%|██████████| 10/10 [00:04<00:00,  2.17it/s]"
     ]
    },
    {
     "name": "stdout",
     "output_type": "stream",
     "text": [
      "Average Painting Size (10 samples): 2873.3 x 3670.7 pixels\n",
      "Average Drawing Size (10 samples): 2602.0 x 3152.8 pixels\n"
     ]
    },
    {
     "name": "stderr",
     "output_type": "stream",
     "text": [
      "\n"
     ]
    }
   ],
   "source": [
    "from PIL import Image\n",
    "from io import BytesIO\n",
    "from tqdm import tqdm\n",
    "\n",
    "def get_width(img):\n",
    "    if img is not None:\n",
    "        return img.width\n",
    "    return None\n",
    "\n",
    "def get_height(img):\n",
    "    if img is not None:\n",
    "        return img.height\n",
    "    return None\n",
    "\n",
    "\n",
    "def fetch_image_dimensions(df):\n",
    "    widths = []\n",
    "    heights = []\n",
    "\n",
    "    for url in tqdm(df['URL'], desc=\"Fetching image dimensions\"):\n",
    "        time.sleep(0.05)\n",
    "        try:\n",
    "            response = requests.get(url, timeout=5)\n",
    "            img = Image.open(BytesIO(response.content))\n",
    "            widths.append(img.width)\n",
    "            heights.append(img.height)\n",
    "        except Exception as e:\n",
    "            print(f\"Failed to fetch {url}: {e}\")\n",
    "            widths.append(None)\n",
    "            heights.append(None)\n",
    "    \n",
    "    df = df.copy()\n",
    "    df['width'] = widths\n",
    "    df['height'] = heights\n",
    "    return df\n",
    "\n",
    "pt_sample = pt_url_list.head(10)\n",
    "dr_sample = dr_url_list.head(10)\n",
    "\n",
    "pt_sample = fetch_image_dimensions(pt_sample)\n",
    "dr_sample = fetch_image_dimensions(dr_sample)\n",
    "\n",
    "avg_pt_width = pt_sample['width'].dropna().mean()\n",
    "avg_pt_height = pt_sample['height'].dropna().mean()\n",
    "avg_dr_width = dr_sample['width'].dropna().mean()\n",
    "avg_dr_height = dr_sample['height'].dropna().mean()\n",
    "\n",
    "print(f\"Average Painting Size (10 samples): {avg_pt_width:.1f} x {avg_pt_height:.1f} pixels\")\n",
    "print(f\"Average Drawing Size (10 samples): {avg_dr_width:.1f} x {avg_dr_height:.1f} pixels\")\n"
   ]
  },
  {
   "cell_type": "code",
   "execution_count": 37,
   "id": "d87d1ba1",
   "metadata": {},
   "outputs": [
    {
     "data": {
      "text/html": [
       "<div>\n",
       "<style scoped>\n",
       "    .dataframe tbody tr th:only-of-type {\n",
       "        vertical-align: middle;\n",
       "    }\n",
       "\n",
       "    .dataframe tbody tr th {\n",
       "        vertical-align: top;\n",
       "    }\n",
       "\n",
       "    .dataframe thead th {\n",
       "        text-align: right;\n",
       "    }\n",
       "</style>\n",
       "<table border=\"1\" class=\"dataframe\">\n",
       "  <thead>\n",
       "    <tr style=\"text-align: right;\">\n",
       "      <th></th>\n",
       "      <th>Year</th>\n",
       "      <th>URL</th>\n",
       "      <th>isPublic</th>\n",
       "      <th>Type</th>\n",
       "      <th>Decade</th>\n",
       "      <th>width</th>\n",
       "      <th>height</th>\n",
       "    </tr>\n",
       "  </thead>\n",
       "  <tbody>\n",
       "    <tr>\n",
       "      <th>0</th>\n",
       "      <td>1865</td>\n",
       "      <td>https://images.metmuseum.org/CRDImages/dp/orig...</td>\n",
       "      <td>True</td>\n",
       "      <td>drawing</td>\n",
       "      <td>1870s</td>\n",
       "      <td>3342</td>\n",
       "      <td>2327</td>\n",
       "    </tr>\n",
       "    <tr>\n",
       "      <th>1</th>\n",
       "      <td>1880</td>\n",
       "      <td>https://images.metmuseum.org/CRDImages/dp/orig...</td>\n",
       "      <td>True</td>\n",
       "      <td>drawing</td>\n",
       "      <td>1880s</td>\n",
       "      <td>3629</td>\n",
       "      <td>2518</td>\n",
       "    </tr>\n",
       "    <tr>\n",
       "      <th>3</th>\n",
       "      <td>1878</td>\n",
       "      <td>https://images.metmuseum.org/CRDImages/dp/orig...</td>\n",
       "      <td>True</td>\n",
       "      <td>drawing</td>\n",
       "      <td>1870s</td>\n",
       "      <td>1397</td>\n",
       "      <td>3970</td>\n",
       "    </tr>\n",
       "    <tr>\n",
       "      <th>4</th>\n",
       "      <td>1878</td>\n",
       "      <td>https://images.metmuseum.org/CRDImages/dp/orig...</td>\n",
       "      <td>True</td>\n",
       "      <td>drawing</td>\n",
       "      <td>1870s</td>\n",
       "      <td>2487</td>\n",
       "      <td>2718</td>\n",
       "    </tr>\n",
       "    <tr>\n",
       "      <th>5</th>\n",
       "      <td>1878</td>\n",
       "      <td>https://images.metmuseum.org/CRDImages/dp/orig...</td>\n",
       "      <td>True</td>\n",
       "      <td>drawing</td>\n",
       "      <td>1870s</td>\n",
       "      <td>3673</td>\n",
       "      <td>2410</td>\n",
       "    </tr>\n",
       "  </tbody>\n",
       "</table>\n",
       "</div>"
      ],
      "text/plain": [
       "   Year                                                URL  isPublic     Type  \\\n",
       "0  1865  https://images.metmuseum.org/CRDImages/dp/orig...      True  drawing   \n",
       "1  1880  https://images.metmuseum.org/CRDImages/dp/orig...      True  drawing   \n",
       "3  1878  https://images.metmuseum.org/CRDImages/dp/orig...      True  drawing   \n",
       "4  1878  https://images.metmuseum.org/CRDImages/dp/orig...      True  drawing   \n",
       "5  1878  https://images.metmuseum.org/CRDImages/dp/orig...      True  drawing   \n",
       "\n",
       "  Decade  width  height  \n",
       "0  1870s   3342    2327  \n",
       "1  1880s   3629    2518  \n",
       "3  1870s   1397    3970  \n",
       "4  1870s   2487    2718  \n",
       "5  1870s   3673    2410  "
      ]
     },
     "execution_count": 37,
     "metadata": {},
     "output_type": "execute_result"
    }
   ],
   "source": [
    "pt_sample.head()\n",
    "dr_sample.head()"
   ]
  },
  {
   "cell_type": "code",
   "execution_count": 38,
   "id": "d9eb5b07",
   "metadata": {
    "tags": []
   },
   "outputs": [
    {
     "data": {
      "text/plain": [
       "'\\nPossible guides\\n\\nhttps://stackoverflow.com/questions/56718952/how-can-i-classify-different-images-with-various-sizes-and-formats-in-scikit-lea\\nhttps://stackoverflow.com/questions/273946/how-do-i-resize-an-image-using-pil-and-maintain-its-aspect-ratio\\n\\n'"
      ]
     },
     "execution_count": 38,
     "metadata": {},
     "output_type": "execute_result"
    }
   ],
   "source": [
    "# Reshape the images, make sure to have the needed packages installed\n",
    "# Goal: 244 x 244, maintain the original aspect ratio/image quality if posssible\n",
    "\n",
    "\n",
    "'''\n",
    "Possible guides\n",
    "\n",
    "https://stackoverflow.com/questions/56718952/how-can-i-classify-different-images-with-various-sizes-and-formats-in-scikit-lea\n",
    "https://stackoverflow.com/questions/273946/how-do-i-resize-an-image-using-pil-and-maintain-its-aspect-ratio\n",
    "\n",
    "'''\n",
    "\n"
   ]
  },
  {
   "cell_type": "code",
   "execution_count": 41,
   "id": "6389a978-5629-42c8-a9f9-e9d2715c537b",
   "metadata": {
    "tags": []
   },
   "outputs": [
    {
     "data": {
      "text/plain": [
       "405"
      ]
     },
     "execution_count": 41,
     "metadata": {},
     "output_type": "execute_result"
    }
   ],
   "source": [
    "len(pt_19th)\n",
    "len(dr_19th)"
   ]
  },
  {
   "cell_type": "code",
   "execution_count": 44,
   "id": "e4d1ed18-e809-4034-aab2-473103fe83d2",
   "metadata": {},
   "outputs": [],
   "source": [
    "pt_19th.to_csv('../DATA/pt_19th.csv', index=False)\n",
    "dr_19th.to_csv('../DATA/dr_19th.csv', index=False)"
   ]
  },
  {
   "cell_type": "code",
   "execution_count": null,
   "id": "b31096c9",
   "metadata": {},
   "outputs": [],
   "source": []
  }
 ],
 "metadata": {
  "kernelspec": {
   "display_name": "Python 3 (ipykernel)",
   "language": "python",
   "name": "python3"
  },
  "language_info": {
   "codemirror_mode": {
    "name": "ipython",
    "version": 3
   },
   "file_extension": ".py",
   "mimetype": "text/x-python",
   "name": "python",
   "nbconvert_exporter": "python",
   "pygments_lexer": "ipython3",
   "version": "3.9.6"
  },
  "vscode": {
   "interpreter": {
    "hash": "aee8b7b246df8f9039afb4144a1f6fd8d2ca17a180786b69acc140d282b71a49"
   }
  }
 },
 "nbformat": 4,
 "nbformat_minor": 5
}
